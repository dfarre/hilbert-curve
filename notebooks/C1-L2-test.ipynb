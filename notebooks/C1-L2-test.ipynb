{
 "cells": [
  {
   "cell_type": "code",
   "execution_count": null,
   "metadata": {
    "scrolled": true
   },
   "outputs": [],
   "source": [
    "from hilbert import operators\n",
    "from hilbert import spaces\n",
    "\n",
    "import pandas\n",
    "import numpy\n",
    "\n",
    "from matplotlib import pyplot"
   ]
  },
  {
   "cell_type": "code",
   "execution_count": null,
   "metadata": {},
   "outputs": [],
   "source": [
    "C1L2 = spaces.C1Field.rectangle(spaces.LebesgueCurveSpace, -0.5 - 0.5j, 0.5 + 0.5j, 5)  # make L²-space over ℂ\n",
    "\n",
    "assert C1L2.bases.bounds == [[-0.5, 0.5], [-0.5, 0.5]]\n",
    "assert C1L2.bases.dimension == 5**2\n",
    "\n",
    "A = C1L2.op_from_callable(lambda arr: (numpy.random.normal(size=C1L2.bases.dimension) + 0.5j*numpy.random.normal(size=C1L2.bases.dimension)), raw=True)\n",
    "H = C1L2.operator((A + A.dagger()).o.to_numpy())  # random Hermitian operator\n",
    "U = C1L2.unitary_op(H)  # random unitary operator - new basis components\n",
    "C1L2.map_basis(U, new_key='random')  # create new basis by applying U to the position ('delta') basis\n",
    "fig, ax = C1L2.bases.plot_domain()  # space domain"
   ]
  },
  {
   "cell_type": "code",
   "execution_count": null,
   "metadata": {},
   "outputs": [],
   "source": [
    "assert U.is_unitary()  # since U is obtained by exponentiation of an hermitian operator\n",
    "\n",
    "entry = U.at(0.25j, -0.5j)  # label `at` access by (x, y) in ℂ²\n",
    "U.setat(0.25j, -0.5j, entry + 10**(-11))  # set entry `at` (x, y) in ℂ²\n",
    "\n",
    "assert not U.is_unitary()\n",
    "\n",
    "U.setat(0.25j, -0.5j, entry)\n",
    "\n",
    "assert U.is_unitary()"
   ]
  },
  {
   "cell_type": "code",
   "execution_count": null,
   "metadata": {},
   "outputs": [],
   "source": [
    "assert C1L2.bases.measure*C1L2.bases.dimension == 1.25**2  # total measure (green) != cell bounds area"
   ]
  },
  {
   "cell_type": "code",
   "execution_count": null,
   "metadata": {},
   "outputs": [],
   "source": [
    "# Since U is unitary:\n",
    "assert C1L2.is_basis('random')  # new basis is actually a basis\n",
    "assert C1L2.is_orthonormal('random')  # new basis is orthonormal\n",
    "\n",
    "u, v = C1L2.bases[0.25 - 0.5j, :]  # label `loc` access with x in ℂ\n",
    "\n",
    "assert u == C1L2.vector('random', C1L2.coords('random', u))  # delta vector as linear combination of the random basis"
   ]
  },
  {
   "cell_type": "code",
   "execution_count": null,
   "metadata": {},
   "outputs": [],
   "source": [
    "# new basis images - i.e. components in 'x' - are U's columns\n",
    "assert all((w.image.i == (1/numpy.sqrt(C1L2.bases.measure))*U.o[ix]).all() for ix, w in C1L2.bases.o['random'].items())"
   ]
  },
  {
   "cell_type": "code",
   "execution_count": null,
   "metadata": {},
   "outputs": [],
   "source": [
    "v.plot(style='-o')  # plot a vector"
   ]
  },
  {
   "cell_type": "code",
   "execution_count": null,
   "metadata": {},
   "outputs": [],
   "source": [
    "C1L2.bases.density_plot(v), C1L2.bases.density_plot(u)  # abs values"
   ]
  },
  {
   "cell_type": "code",
   "execution_count": null,
   "metadata": {},
   "outputs": [],
   "source": [
    "C1L2.extend()  # replicate once in each direction\n",
    "\n",
    "assert C1L2.bases.dimension == (5*3)**2  # new dimension\n",
    "\n",
    "C1L2.bases.plot_domain()"
   ]
  },
  {
   "cell_type": "code",
   "execution_count": null,
   "metadata": {},
   "outputs": [],
   "source": [
    "assert C1L2.is_basis('random')  # automatically extended by vector replication\n",
    "assert C1L2.is_orthonormal('random')"
   ]
  },
  {
   "cell_type": "code",
   "execution_count": null,
   "metadata": {},
   "outputs": [],
   "source": [
    "C1L2.bases.density_plot(C1L2.bases.at(1 + 0.75j, 'random'))  # replicated basis vector"
   ]
  },
  {
   "cell_type": "code",
   "execution_count": null,
   "metadata": {},
   "outputs": [],
   "source": [
    "C1L2.bases.o  # bases data frame"
   ]
  },
  {
   "cell_type": "code",
   "execution_count": null,
   "metadata": {},
   "outputs": [],
   "source": [
    "C1L2.show_basis_slice('random', 0.25 + 0.5j, style='-', alpha=0.75)  # transformed basis curves"
   ]
  },
  {
   "cell_type": "code",
   "execution_count": null,
   "metadata": {},
   "outputs": [],
   "source": [
    "image_curve = v.curves[0]  # `ImageCurve`s lack analytical definition\n",
    "image_curve"
   ]
  },
  {
   "cell_type": "code",
   "execution_count": null,
   "metadata": {},
   "outputs": [],
   "source": [
    "assert all([3.14*image_curve != image_curve, not image_curve == 3])  # `ImageCurve`s algebra and comparison\n",
    "assert (image_curve(numpy.array([0.25])) == numpy.array([image_curve.image[0.25]])).all()  # `ImageCurve`s evaluation"
   ]
  },
  {
   "cell_type": "code",
   "execution_count": null,
   "metadata": {},
   "outputs": [],
   "source": [
    "assert (U == ((+U.dagger() + U)*0.5 + (-U.dagger() + U)/2))  # operator algebra"
   ]
  },
  {
   "cell_type": "code",
   "execution_count": null,
   "metadata": {},
   "outputs": [],
   "source": [
    "(1 + 1j*U.dagger()@H@U - H**2)[-0.2j:0.4j, :0.2]  # operator algebra and slicing"
   ]
  },
  {
   "cell_type": "code",
   "execution_count": null,
   "metadata": {},
   "outputs": [],
   "source": [
    "assert (1 - H).at(0.25 - 0.5j, 0.5 - 0.25j) == (1 - H)[0.25 - 0.5j, 0.5 - 0.25j] # rsub"
   ]
  },
  {
   "cell_type": "code",
   "execution_count": null,
   "metadata": {},
   "outputs": [],
   "source": [
    "H[0.2j:0.8j, :0.2j] = 33j - 11  # set slice by (x, y) in ℂ²\n",
    "assert (H[0.2j:0.8j, :0.2j] == -11 + 33j).all().all()"
   ]
  }
 ],
 "metadata": {
  "kernelspec": {
   "display_name": "Python 3",
   "language": "python",
   "name": "python3"
  },
  "language_info": {
   "codemirror_mode": {
    "name": "ipython",
    "version": 3
   },
   "file_extension": ".py",
   "mimetype": "text/x-python",
   "name": "python",
   "nbconvert_exporter": "python",
   "pygments_lexer": "ipython3",
   "version": "3.6.7"
  }
 },
 "nbformat": 4,
 "nbformat_minor": 2
}
