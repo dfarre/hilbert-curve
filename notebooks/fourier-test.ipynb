{
 "cells": [
  {
   "cell_type": "code",
   "execution_count": null,
   "metadata": {},
   "outputs": [],
   "source": [
    "from hilbert import algebra\n",
    "from hilbert import operators\n",
    "from hilbert import spaces\n",
    "from hilbert import stock\n",
    "\n",
    "from hilbert.curves import lib\n",
    "\n",
    "import pandas\n",
    "import numpy\n",
    "\n",
    "from matplotlib import pyplot"
   ]
  },
  {
   "cell_type": "code",
   "execution_count": null,
   "metadata": {},
   "outputs": [],
   "source": [
    "## Analytical definition of Fourier basis\n",
    "R1L2 = spaces.R1Field.range(spaces.LebesgueCurveSpace, 0, 0.49, 50)  # make L²-space over ℝ\n",
    "R1L2.bases.plot_domain()  # space domain"
   ]
  },
  {
   "cell_type": "code",
   "execution_count": null,
   "metadata": {},
   "outputs": [],
   "source": [
    "R1L2.show_basis_slice('fourier', 0.19, 0.30, style='-o', alpha=0.7)  # Fourier (created on demand) sinusoids"
   ]
  },
  {
   "cell_type": "code",
   "execution_count": null,
   "metadata": {},
   "outputs": [],
   "source": [
    "R1L2[:, 'delta']  # create (when needed) and return position basis\n",
    "R1L2.bases.o.dropna()  # only the demanded Fourier curves were created"
   ]
  },
  {
   "cell_type": "code",
   "execution_count": null,
   "metadata": {},
   "outputs": [],
   "source": [
    "assert R1L2.is_basis('fourier')  # completes the basis on demand\n",
    "assert R1L2.is_orthonormal('fourier')"
   ]
  },
  {
   "cell_type": "code",
   "execution_count": null,
   "metadata": {
    "scrolled": true
   },
   "outputs": [],
   "source": [
    "## Numerical definition of same Fourier basis\n",
    "F = R1L2.fourier_op  # unitary operator of Fourier vectors\n",
    "R1L2.map_basis(F, 'p')  # create the basis by mapping F to delta basis\n",
    "PF = F.toggle_polar().rename(columns=R1L2.fourier_labels)  # Fourier basis matrix in polar form\n",
    "round(PF, (2, 3)).o"
   ]
  },
  {
   "cell_type": "code",
   "execution_count": null,
   "metadata": {},
   "outputs": [],
   "source": [
    "assert (R1L2[:, 'fourier'] == R1L2.bases.o['p']).all()"
   ]
  },
  {
   "cell_type": "code",
   "execution_count": null,
   "metadata": {},
   "outputs": [],
   "source": [
    "R1L2.show_basis_slice('p', 0.2, 0.25, style='-o')  # Fourier sinusoids"
   ]
  },
  {
   "cell_type": "code",
   "execution_count": null,
   "metadata": {},
   "outputs": [],
   "source": [
    "assert F.is_unitary() is True  # by construction\n",
    "\n",
    "z = F.at(0.35, 0.49)\n",
    "F.setat(0.35, 0.49, z + 10**(-10))\n",
    "\n",
    "assert F.is_unitary() is False\n",
    "\n",
    "F.setat(0.35, 0.49, z)\n",
    "\n",
    "assert F.is_unitary() is True"
   ]
  },
  {
   "cell_type": "code",
   "execution_count": null,
   "metadata": {},
   "outputs": [],
   "source": [
    "# Since U is unitary:\n",
    "assert R1L2.is_basis('p')\n",
    "assert R1L2.is_orthonormal('p')"
   ]
  },
  {
   "cell_type": "code",
   "execution_count": null,
   "metadata": {},
   "outputs": [],
   "source": [
    "# images are 'delta' basis components - columns of F\n",
    "assert all((w.image.i == (1/numpy.sqrt(R1L2.bases.measure))*F.o[ix]).all() for ix, w in R1L2.bases.o['p'].items())"
   ]
  },
  {
   "cell_type": "code",
   "execution_count": null,
   "metadata": {},
   "outputs": [],
   "source": [
    "w = 0.5*R1L2(lib.Exp(1, 2), lib.Exp(1, -3))\n",
    "wcoords = R1L2.coords('p', w)  # coordinates of w in the 'p' basis\n",
    "assert w == R1L2.vector('p', wcoords)  # w as linear combination of the 'p' basis"
   ]
  },
  {
   "cell_type": "code",
   "execution_count": null,
   "metadata": {},
   "outputs": [],
   "source": [
    "x = 0.3\n",
    "vector = R1L2.bases.at(x, 'p')\n",
    "vector.plot(style='-o')  # vector with momentum `R1L2.fourier_labels[0.3]`\n",
    "(2*numpy.pi/abs(R1L2.fourier_label(x)))/R1L2.bases.measure  # wavelength/measure"
   ]
  },
  {
   "cell_type": "code",
   "execution_count": null,
   "metadata": {},
   "outputs": [],
   "source": [
    "# Small wavelength Fourier vectors look different from pure sin/cos because of the finite measure\n",
    "x = 0.01\n",
    "R1L2[x, 'fourier'].plot(style='g-o')\n",
    "(2*numpy.pi/abs(R1L2.fourier_label(x)))/R1L2.bases.measure  # wavelength/measure"
   ]
  },
  {
   "cell_type": "code",
   "execution_count": null,
   "metadata": {},
   "outputs": [],
   "source": [
    "R1L2.show_vectors(vector, w, *R1L2[0:0.01, 'fourier'], style='-o')  # plot arbitrary vectors together"
   ]
  },
  {
   "cell_type": "code",
   "execution_count": null,
   "metadata": {},
   "outputs": [],
   "source": [
    "assert (R1L2.Id@F == F, F@R1L2.Id == F) == (True,)*2  # identity operator"
   ]
  },
  {
   "cell_type": "code",
   "execution_count": null,
   "metadata": {},
   "outputs": [],
   "source": [
    "# Operator comparisons\n",
    "assert all((\n",
    "    (abs(F + 10) >= 1/abs(F + 10)).all().all(),\n",
    "    (abs(F) + 1 > abs(F)).all().all(),\n",
    "    (abs(F) < 1 + abs(F)).all().all(),\n",
    "    (abs(F) <= 1 + abs(F)).all().all(),\n",
    "    F == F, F != F**2, F != 3, F != F.o))"
   ]
  },
  {
   "cell_type": "code",
   "execution_count": null,
   "metadata": {},
   "outputs": [],
   "source": [
    "# Space and bases extension\n",
    "assert R1L2.bases.dimension == 50\n",
    "assert R1L2.bases.bounds == [0, 0.49]\n",
    "\n",
    "R1L2.extend(copies=2)  # extend the space by replication in both directions\n",
    "\n",
    "assert R1L2.bases.dimension == (2*2 + 1)*50\n",
    "assert R1L2.bases.bounds == [-1, 1.49]\n",
    "\n",
    "R1L2.bases.plot_domain()  # new domain"
   ]
  },
  {
   "cell_type": "code",
   "execution_count": null,
   "metadata": {},
   "outputs": [],
   "source": [
    "R1L2.bases.o['fourier'].dropna()  # Fourier vectors have been spread according to momentum parameter"
   ]
  },
  {
   "cell_type": "code",
   "execution_count": null,
   "metadata": {},
   "outputs": [],
   "source": [
    "assert len(R1L2.bases.o['delta'].dropna().index) == len(R1L2.bases.o['fourier'].dropna().index) == 50"
   ]
  },
  {
   "cell_type": "code",
   "execution_count": null,
   "metadata": {},
   "outputs": [],
   "source": [
    "R1L2.show_basis_slice('p', 0.5, 0.51)  # non-analytic 'p' basis is extended by replication"
   ]
  },
  {
   "cell_type": "code",
   "execution_count": null,
   "metadata": {},
   "outputs": [],
   "source": [
    "R1L2.show_basis_slice('fourier', 0.3, 0.35)  # 'fourier' basis is extended analytically"
   ]
  },
  {
   "cell_type": "code",
   "execution_count": null,
   "metadata": {},
   "outputs": [],
   "source": [
    "assert R1L2.is_basis('p')\n",
    "assert R1L2.is_orthonormal('p')"
   ]
  },
  {
   "cell_type": "code",
   "execution_count": null,
   "metadata": {},
   "outputs": [],
   "source": [
    "R1L2[:, 'delta'], R1L2[:, 'fourier']  # extends both bases completely\n",
    "R1L2.bases.o"
   ]
  },
  {
   "cell_type": "code",
   "execution_count": null,
   "metadata": {},
   "outputs": [],
   "source": [
    "assert R1L2.is_basis('fourier')\n",
    "assert R1L2.is_orthonormal('fourier')"
   ]
  }
 ],
 "metadata": {
  "kernelspec": {
   "display_name": "Python 3",
   "language": "python",
   "name": "python3"
  },
  "language_info": {
   "codemirror_mode": {
    "name": "ipython",
    "version": 3
   },
   "file_extension": ".py",
   "mimetype": "text/x-python",
   "name": "python",
   "nbconvert_exporter": "python",
   "pygments_lexer": "ipython3",
   "version": "3.6.7"
  }
 },
 "nbformat": 4,
 "nbformat_minor": 2
}
